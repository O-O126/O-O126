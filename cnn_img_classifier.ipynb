{
 "cells": [
  {
   "cell_type": "code",
   "execution_count": null,
   "id": "d37c355a",
   "metadata": {
    "is_executing": true
   },
   "outputs": [],
   "source": [
    "# 检查每个类别中的图像数量,并显示几个示例\n",
    "from PIL import Image\n",
    "import matplotlib.pyplot as plt\n",
    "import os\n",
    "\n",
    "bleached_path ='images/bleached_corals'\n",
    "healthy_path = 'images/healthy_corals'\n",
    "\n",
    "# 获得两个类别的图像列表\n",
    "bleached_images = os.listdir(bleached_path)\n",
    "healthy_images = os.listdir(healthy_path)\n",
    "\n",
    "# 显示图像的数量和一些样本图像\n",
    "num_samples_to_display = 3\n",
    "fig, axes = plt.subplots(2, num_samples_to_display, figsize=(15, 7))\n",
    "\n",
    "for i, img_file in enumerate(bleached_images[:num_samples_to_display]):\n",
    "    img = Image.open(os.path.join(bleached_path, img_file))\n",
    "    axes[0, i].imshow(img)\n",
    "    axes[0, i].set_title(\"Bleached\")\n",
    "    axes[0, i].axis('off')\n",
    "\n",
    "for i, img_file in enumerate(healthy_images[:num_samples_to_display]):\n",
    "    img = Image.open(os.path.join(healthy_path, img_file))\n",
    "    axes[1, i].imshow(img)\n",
    "    axes[1, i].set_title(\"Healthy\")\n",
    "    axes[1, i].axis('off')\n",
    "\n",
    "plt.tight_layout()\n",
    "plt.show()\n",
    "\n",
    "len(bleached_images), len(healthy_images)\n"
   ]
  },
  {
   "cell_type": "markdown",
   "id": "1d5efa8a",
   "metadata": {},
   "source": [
    "# 数据预处理：查看图片的大小、格式，进行尺寸调整、归一化等预处理。"
   ]
  },
  {
   "cell_type": "code",
   "execution_count": 5,
   "id": "5598c051",
   "metadata": {},
   "outputs": [
    {
     "data": {
      "text/plain": [
       "((738, 224, 224, 3), (185, 224, 224, 3))"
      ]
     },
     "execution_count": 5,
     "metadata": {},
     "output_type": "execute_result"
    }
   ],
   "source": [
    "import numpy as np\n",
    "from sklearn.model_selection import train_test_split\n",
    "\n",
    "# 参数\n",
    "IMG_SIZE = (224, 224)\n",
    "SEED = 42\n",
    "\n",
    "# 处理图像:\n",
    "# 调整图片大小：将所有图片调整为224x224的大小。\n",
    "# 归一化：将图片的像素值范围从[0,255]调整到[0,1]。\n",
    "def process_images(file_paths):\n",
    "    data = []\n",
    "    for file_path in file_paths:\n",
    "        img = Image.open(file_path).resize(IMG_SIZE)\n",
    "        img_array = np.array(img) / 255.0\n",
    "        data.append(img_array)\n",
    "    return np.array(data)\n",
    "\n",
    "# 得到完整的图像路径\n",
    "bleached_full_paths = [os.path.join(bleached_path, img) for img in bleached_images]\n",
    "healthy_full_paths = [os.path.join(healthy_path, img) for img in healthy_images]\n",
    "\n",
    "# 处理图像\n",
    "bleached_data = process_images(bleached_full_paths)\n",
    "healthy_data = process_images(healthy_full_paths)\n",
    "\n",
    "# 分配标签:0白化,1健康\n",
    "bleached_labels = np.zeros(len(bleached_data))\n",
    "healthy_labels = np.ones(len(healthy_data))\n",
    "\n",
    "# 连接数据和标签\n",
    "X = np.concatenate([bleached_data, healthy_data])\n",
    "y = np.concatenate([bleached_labels, healthy_labels])\n",
    "\n",
    "# 将数据分成训练集和测试集\n",
    "# 将数据拆分为80%的训练集和20%的测试集。\n",
    "X_train, X_test, y_train, y_test = train_test_split(X, y, test_size=0.20, random_state=SEED, stratify=y)\n",
    "\n",
    "X_train.shape, X_test.shape\n"
   ]
  },
  {
   "cell_type": "markdown",
   "id": "a63bbef7",
   "metadata": {},
   "source": [
    "# 卷积神经网络 (CNN)。"
   ]
  },
  {
   "cell_type": "code",
   "execution_count": 8,
   "id": "b7740126",
   "metadata": {
    "scrolled": true
   },
   "outputs": [
    {
     "name": "stdout",
     "output_type": "stream",
     "text": [
      "Model: \"sequential\"\n",
      "_________________________________________________________________\n",
      " Layer (type)                Output Shape              Param #   \n",
      "=================================================================\n",
      " conv2d (Conv2D)             (None, 222, 222, 32)      896       \n",
      "                                                                 \n",
      " max_pooling2d (MaxPooling2  (None, 111, 111, 32)      0         \n",
      " D)                                                              \n",
      "                                                                 \n",
      " conv2d_1 (Conv2D)           (None, 109, 109, 64)      18496     \n",
      "                                                                 \n",
      " max_pooling2d_1 (MaxPoolin  (None, 54, 54, 64)        0         \n",
      " g2D)                                                            \n",
      "                                                                 \n",
      " conv2d_2 (Conv2D)           (None, 52, 52, 128)       73856     \n",
      "                                                                 \n",
      " max_pooling2d_2 (MaxPoolin  (None, 26, 26, 128)       0         \n",
      " g2D)                                                            \n",
      "                                                                 \n",
      " flatten (Flatten)           (None, 86528)             0         \n",
      "                                                                 \n",
      " dense (Dense)               (None, 128)               11075712  \n",
      "                                                                 \n",
      " dropout (Dropout)           (None, 128)               0         \n",
      "                                                                 \n",
      " dense_1 (Dense)             (None, 1)                 129       \n",
      "                                                                 \n",
      "=================================================================\n",
      "Total params: 11169089 (42.61 MB)\n",
      "Trainable params: 11169089 (42.61 MB)\n",
      "Non-trainable params: 0 (0.00 Byte)\n",
      "_________________________________________________________________\n",
      "Epoch 1/10\n",
      "24/24 [==============================] - 21s 812ms/step - loss: 0.8462 - accuracy: 0.5718 - val_loss: 0.5912 - val_accuracy: 0.7405\n",
      "Epoch 2/10\n",
      "24/24 [==============================] - 21s 858ms/step - loss: 0.5826 - accuracy: 0.7114 - val_loss: 0.5534 - val_accuracy: 0.6811\n",
      "Epoch 3/10\n",
      "24/24 [==============================] - 22s 934ms/step - loss: 0.5399 - accuracy: 0.7385 - val_loss: 0.5226 - val_accuracy: 0.6757\n",
      "Epoch 4/10\n",
      "24/24 [==============================] - 20s 833ms/step - loss: 0.5241 - accuracy: 0.7534 - val_loss: 0.5386 - val_accuracy: 0.7189\n",
      "Epoch 5/10\n",
      "24/24 [==============================] - 20s 822ms/step - loss: 0.4795 - accuracy: 0.7710 - val_loss: 0.5182 - val_accuracy: 0.6919\n",
      "Epoch 6/10\n",
      "24/24 [==============================] - 21s 871ms/step - loss: 0.5096 - accuracy: 0.7547 - val_loss: 0.5435 - val_accuracy: 0.6865\n",
      "Epoch 7/10\n",
      "24/24 [==============================] - 21s 868ms/step - loss: 0.4819 - accuracy: 0.7805 - val_loss: 0.5248 - val_accuracy: 0.7297\n",
      "Epoch 8/10\n",
      "24/24 [==============================] - 20s 853ms/step - loss: 0.5223 - accuracy: 0.7331 - val_loss: 0.5191 - val_accuracy: 0.7189\n",
      "Epoch 9/10\n",
      "24/24 [==============================] - 22s 939ms/step - loss: 0.4433 - accuracy: 0.8035 - val_loss: 0.4968 - val_accuracy: 0.7135\n",
      "Epoch 10/10\n",
      "24/24 [==============================] - 20s 811ms/step - loss: 0.4073 - accuracy: 0.8198 - val_loss: 0.5112 - val_accuracy: 0.7189\n",
      "6/6 [==============================] - 1s 182ms/step - loss: 0.5112 - accuracy: 0.7189\n",
      "测试集上的准确率: 0.7189\n"
     ]
    },
    {
     "name": "stderr",
     "output_type": "stream",
     "text": [
      "D:\\Users\\wangyuyan\\AppData\\Local\\Programs\\Python\\Python310\\lib\\site-packages\\keras\\src\\engine\\training.py:3000: UserWarning: You are saving your model as an HDF5 file via `model.save()`. This file format is considered legacy. We recommend using instead the native Keras format, e.g. `model.save('my_model.keras')`.\n",
      "  saving_api.save_model(\n"
     ]
    },
    {
     "name": "stdout",
     "output_type": "stream",
     "text": [
      "模型已保存为coral_model.h5\n"
     ]
    }
   ],
   "source": [
    "import tensorflow as tf\n",
    "from tensorflow.keras.models import Sequential\n",
    "from tensorflow.keras.layers import Conv2D, MaxPooling2D, Flatten, Dense, Dropout\n",
    "\n",
    "# 1. 构建模型\n",
    "model = Sequential()\n",
    "\n",
    "# 第一个卷积层\n",
    "model.add(Conv2D(32, (3, 3), activation='relu', input_shape=(224, 224, 3)))\n",
    "model.add(MaxPooling2D(pool_size=(2, 2)))\n",
    "\n",
    "# 第二个卷积层\n",
    "model.add(Conv2D(64, (3, 3), activation='relu'))\n",
    "model.add(MaxPooling2D(pool_size=(2, 2)))\n",
    "\n",
    "# 第三个卷积层\n",
    "model.add(Conv2D(128, (3, 3), activation='relu'))\n",
    "model.add(MaxPooling2D(pool_size=(2, 2)))\n",
    "\n",
    "# 全连接层\n",
    "model.add(Flatten())\n",
    "model.add(Dense(128, activation='relu'))\n",
    "model.add(Dropout(0.5))\n",
    "model.add(Dense(1, activation='sigmoid'))  # 二分类问题使用sigmoid激活函数\n",
    "\n",
    "# 查看模型结构\n",
    "model.summary()\n",
    "\n",
    "# 2. 编译模型\n",
    "model.compile(optimizer='adam', loss='binary_crossentropy', metrics=['accuracy'])\n",
    "\n",
    "# 3. 训练模型\n",
    "history = model.fit(X_train, y_train, epochs=10, batch_size=32, validation_data=(X_test, y_test))\n",
    "\n",
    "# 4. 评估模型\n",
    "test_loss, test_accuracy = model.evaluate(X_test, y_test)\n",
    "print(f\"测试集上的准确率: {test_accuracy:.4f}\")\n",
    "\n",
    "# 5. 保存模型\n",
    "model.save(\"coral_model.h5\")\n",
    "print(\"模型已保存为coral_model.h5\")\n"
   ]
  },
  {
   "cell_type": "markdown",
   "id": "01858a5d",
   "metadata": {},
   "source": [
    "# 优化！\n",
    "了解。为了优化代码、提高运行速度和准确率，我们可以采取以下策略：\n",
    "\n",
    "1. **使用更复杂的模型结构**：增加更多的卷积层和全连接层可以帮助模型捕捉更复杂的特征。\n",
    "2. **数据增强**：使用数据增强技术可以在训练时生成更多的数据，帮助模型泛化得更好。\n",
    "3. **正则化**：添加dropout层可以减少过拟合，提高模型的泛化能力。\n",
    "4. **更高效的优化器**：例如，我们可以继续使用Adam，但可能会调整学习率。\n",
    "\n",
    "此代码使用了数据增强、更复杂的模型结构、正则化和批量标准化，以期望提高模型的准确率。您可以在本地运行此代码并查看性能改进情况。"
   ]
  },
  {
   "cell_type": "code",
   "execution_count": null,
   "id": "ad5ae38c",
   "metadata": {},
   "outputs": [
    {
     "name": "stdout",
     "output_type": "stream",
     "text": [
      "Epoch 1/25\n",
      "24/24 [==============================] - 41s 2s/step - loss: 1.0567 - accuracy: 0.6612 - val_loss: 0.7141 - val_accuracy: 0.5243\n",
      "Epoch 2/25\n",
      "24/24 [==============================] - 40s 2s/step - loss: 0.7396 - accuracy: 0.6897 - val_loss: 0.7259 - val_accuracy: 0.5243\n",
      "Epoch 3/25\n",
      "24/24 [==============================] - 39s 2s/step - loss: 0.6781 - accuracy: 0.7100 - val_loss: 0.7013 - val_accuracy: 0.5243\n",
      "Epoch 4/25\n",
      "24/24 [==============================] - 39s 2s/step - loss: 0.6366 - accuracy: 0.7331 - val_loss: 0.9097 - val_accuracy: 0.5243\n",
      "Epoch 5/25\n",
      "24/24 [==============================] - 40s 2s/step - loss: 0.5931 - accuracy: 0.7439 - val_loss: 0.9299 - val_accuracy: 0.5243\n",
      "Epoch 6/25\n",
      "24/24 [==============================] - 38s 2s/step - loss: 0.6808 - accuracy: 0.7019 - val_loss: 0.8201 - val_accuracy: 0.5243\n",
      "Epoch 7/25\n",
      "24/24 [==============================] - 39s 2s/step - loss: 0.5929 - accuracy: 0.7209 - val_loss: 1.0234 - val_accuracy: 0.5243\n",
      "Epoch 8/25\n",
      "24/24 [==============================] - 40s 2s/step - loss: 0.6223 - accuracy: 0.7087 - val_loss: 1.3817 - val_accuracy: 0.5243\n",
      "Epoch 9/25\n",
      "24/24 [==============================] - 41s 2s/step - loss: 0.5974 - accuracy: 0.7398 - val_loss: 2.1077 - val_accuracy: 0.5243\n",
      "Epoch 10/25\n",
      "24/24 [==============================] - 42s 2s/step - loss: 0.6037 - accuracy: 0.7317 - val_loss: 1.4416 - val_accuracy: 0.5568\n",
      "Epoch 11/25\n",
      "24/24 [==============================] - 40s 2s/step - loss: 0.5962 - accuracy: 0.7358 - val_loss: 2.4372 - val_accuracy: 0.5459\n",
      "Epoch 12/25\n",
      "24/24 [==============================] - 42s 2s/step - loss: 0.5805 - accuracy: 0.7344 - val_loss: 4.0657 - val_accuracy: 0.5351\n",
      "Epoch 13/25\n",
      "24/24 [==============================] - 42s 2s/step - loss: 0.5643 - accuracy: 0.7385 - val_loss: 4.2308 - val_accuracy: 0.5027\n",
      "Epoch 14/25\n",
      " 7/24 [=======>......................] - ETA: 28s - loss: 0.5670 - accuracy: 0.7545"
     ]
    }
   ],
   "source": [
    "import tensorflow as tf\n",
    "from tensorflow.keras.models import Sequential\n",
    "from tensorflow.keras.layers import Conv2D, MaxPooling2D, Flatten, Dense, Dropout, BatchNormalization\n",
    "from tensorflow.keras.preprocessing.image import ImageDataGenerator\n",
    "\n",
    "# 1. 数据增强\n",
    "datagen = ImageDataGenerator(\n",
    "    rescale=1./255,\n",
    "    rotation_range=20,\n",
    "    width_shift_range=0.2,\n",
    "    height_shift_range=0.2,\n",
    "    shear_range=0.2,\n",
    "    zoom_range=0.2,\n",
    "    horizontal_flip=True,\n",
    "    fill_mode='nearest'\n",
    ")\n",
    "\n",
    "train_generator = datagen.flow(X_train, y_train, batch_size=32)\n",
    "\n",
    "# 2. 构建模型\n",
    "model = Sequential()\n",
    "\n",
    "# 第一个卷积层\n",
    "model.add(Conv2D(32, (3, 3), activation='relu', input_shape=(224, 224, 3)))\n",
    "model.add(BatchNormalization())\n",
    "model.add(MaxPooling2D(pool_size=(2, 2)))\n",
    "model.add(Dropout(0.25))\n",
    "\n",
    "# 第二个卷积层\n",
    "model.add(Conv2D(64, (3, 3), activation='relu'))\n",
    "model.add(BatchNormalization())\n",
    "model.add(MaxPooling2D(pool_size=(2, 2)))\n",
    "model.add(Dropout(0.25))\n",
    "\n",
    "# 第三个卷积层\n",
    "model.add(Conv2D(128, (3, 3), activation='relu'))\n",
    "model.add(BatchNormalization())\n",
    "model.add(MaxPooling2D(pool_size=(2, 2)))\n",
    "model.add(Dropout(0.25))\n",
    "\n",
    "# 全连接层\n",
    "model.add(Flatten())\n",
    "model.add(Dense(512, activation='relu'))\n",
    "model.add(BatchNormalization())\n",
    "model.add(Dropout(0.5))\n",
    "model.add(Dense(1, activation='sigmoid'))\n",
    "\n",
    "# 3. 编译模型\n",
    "model.compile(optimizer=tf.keras.optimizers.Adam(learning_rate=0.0001), \n",
    "              loss='binary_crossentropy', \n",
    "              metrics=['accuracy'])\n",
    "\n",
    "# 4. 训练模型\n",
    "history = model.fit(train_generator, \n",
    "                    epochs=25, \n",
    "                    validation_data=(X_test, y_test))\n",
    "\n",
    "# 5. 评估模型\n",
    "test_loss, test_accuracy = model.evaluate(X_test, y_test)\n",
    "print(f\"测试集上的准确率: {test_accuracy:.4f}\")\n",
    "\n",
    "# 6. 保存模型\n",
    "model.save(\"optimized_coral_model.h5\")\n",
    "print(\"模型已保存为optimized_coral_model.h5\")\n"
   ]
  }
 ],
 "metadata": {
  "kernelspec": {
   "display_name": "Python 3 (ipykernel)",
   "language": "python",
   "name": "python3"
  },
  "language_info": {
   "codemirror_mode": {
    "name": "ipython",
    "version": 3
   },
   "file_extension": ".py",
   "mimetype": "text/x-python",
   "name": "python",
   "nbconvert_exporter": "python",
   "pygments_lexer": "ipython3",
   "version": "3.10.4"
  },
  "toc": {
   "base_numbering": 1,
   "nav_menu": {},
   "number_sections": true,
   "sideBar": true,
   "skip_h1_title": false,
   "title_cell": "Table of Contents",
   "title_sidebar": "Contents",
   "toc_cell": false,
   "toc_position": {},
   "toc_section_display": true,
   "toc_window_display": false
  },
  "varInspector": {
   "cols": {
    "lenName": 16,
    "lenType": 16,
    "lenVar": 40
   },
   "kernels_config": {
    "python": {
     "delete_cmd_postfix": "",
     "delete_cmd_prefix": "del ",
     "library": "var_list.py",
     "varRefreshCmd": "print(var_dic_list())"
    },
    "r": {
     "delete_cmd_postfix": ") ",
     "delete_cmd_prefix": "rm(",
     "library": "var_list.r",
     "varRefreshCmd": "cat(var_dic_list()) "
    }
   },
   "types_to_exclude": [
    "module",
    "function",
    "builtin_function_or_method",
    "instance",
    "_Feature"
   ],
   "window_display": false
  }
 },
 "nbformat": 4,
 "nbformat_minor": 5
}
